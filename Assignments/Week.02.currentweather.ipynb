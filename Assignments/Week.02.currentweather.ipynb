{
 "cells": [
  {
   "cell_type": "markdown",
   "metadata": {},
   "source": [
    "# Task 1, Week 2.\n",
    "\n",
    "Write a python program called currentweather.py that will print out the current temperature on the console (and only the temperature).\n",
    "\n",
    "From reviewing the open-meteo api. It appears to be a JSON format. \n",
    "\n"
   ]
  },
  {
   "cell_type": "code",
   "execution_count": 19,
   "metadata": {},
   "outputs": [],
   "source": [
    "import requests\n",
    "import json"
   ]
  },
  {
   "cell_type": "code",
   "execution_count": 16,
   "metadata": {},
   "outputs": [],
   "source": [
    "url = \"https://api.open-meteo.com/v1/forecast?latitude=53.82&longitude=-9.5&current=temperature_2m,wind_speed_10m\"\n",
    "response = requests.get(url)\n",
    "\n",
    "data = response.json()\n",
    "#print(response.json())\n"
   ]
  },
  {
   "cell_type": "code",
   "execution_count": 17,
   "metadata": {},
   "outputs": [],
   "source": [
    "# First we need to isolate Current, which temperature is under. \n",
    "current = data[\"current\"]\n",
    "#print(current)"
   ]
  },
  {
   "cell_type": "code",
   "execution_count": 18,
   "metadata": {},
   "outputs": [
    {
     "name": "stdout",
     "output_type": "stream",
     "text": [
      "The current temperature is 10.6 degrees celcius\n"
     ]
    }
   ],
   "source": [
    "#Isolate Temperature\n",
    "temp = current[\"temperature_2m\"]\n",
    "print(f'The current temperature is {temp} degrees celcius')"
   ]
  },
  {
   "cell_type": "markdown",
   "metadata": {},
   "source": [
    "# Part 2\n",
    "\n",
    "Using Open Meteo print out the direction of the wind.  This site allows you to select what weather related variable you want to look at. For the purposes of this exercise I have selected only the variable \"Wind Direct (10m)\" under current weather.\n",
    "\n",
    "https://open-meteo.com/en/docs/#current=wind_direction_10m&hourly=\n"
   ]
  },
  {
   "cell_type": "code",
   "execution_count": 42,
   "metadata": {},
   "outputs": [
    {
     "name": "stdout",
     "output_type": "stream",
     "text": [
      "{'latitude': 52.52, 'longitude': 13.419998, 'generationtime_ms': 0.030994415283203125, 'utc_offset_seconds': 0, 'timezone': 'GMT', 'timezone_abbreviation': 'GMT', 'elevation': 38.0, 'current_units': {'time': 'iso8601', 'interval': 'seconds', 'wind_direction_10m': '°'}, 'current': {'time': '2024-02-18T23:00', 'interval': 900, 'wind_direction_10m': 199}}\n"
     ]
    }
   ],
   "source": [
    "url2 = \"https://api.open-meteo.com/v1/forecast?latitude=52.52&longitude=13.41&current=wind_direction_10m\"\n",
    "response2 = requests.get(url2)\n",
    "\n",
    "data2 = response2.json()\n",
    "print(data2)"
   ]
  },
  {
   "cell_type": "code",
   "execution_count": 43,
   "metadata": {},
   "outputs": [
    {
     "name": "stdout",
     "output_type": "stream",
     "text": [
      "{'time': '2024-02-18T23:00', 'interval': 900, 'wind_direction_10m': 199}\n"
     ]
    }
   ],
   "source": [
    "# First we need to isolate Current, which temperature is under. \n",
    "current2 = data2[\"current\"]\n",
    "print(current2)"
   ]
  },
  {
   "cell_type": "code",
   "execution_count": 44,
   "metadata": {},
   "outputs": [
    {
     "name": "stdout",
     "output_type": "stream",
     "text": [
      "The Wind is currently at blowing at 199 degrees which means its is coming from the South\n"
     ]
    }
   ],
   "source": [
    "#Isolate Wind Direction\n",
    "\n",
    "wind_dir = current2[\"wind_direction_10m\"]\n",
    "\n",
    "# The api lists the wind direction in degrees, i want to put a direction on it. \n",
    "#Obviously you could subdivide the directions further to make it more accurate (eg. south-west..)\n",
    "\n",
    "\n",
    "if 45 <= wind_dir < 135:\n",
    "    wind_direction = \"East\"\n",
    "elif 135 <= wind_dir < 225:\n",
    "    wind_direction = \"South\"\n",
    "elif 225 <= wind_dir < 315:\n",
    "    wind_direction = \"West\"\n",
    "else:\n",
    "    wind_direction = \"North\"\n",
    "    \n",
    "print(f'The Wind is currently at blowing at {wind_dir} degrees which means its is coming from the {wind_direction}')"
   ]
  }
 ],
 "metadata": {
  "kernelspec": {
   "display_name": "base",
   "language": "python",
   "name": "python3"
  },
  "language_info": {
   "codemirror_mode": {
    "name": "ipython",
    "version": 3
   },
   "file_extension": ".py",
   "mimetype": "text/x-python",
   "name": "python",
   "nbconvert_exporter": "python",
   "pygments_lexer": "ipython3",
   "version": "3.11.5"
  }
 },
 "nbformat": 4,
 "nbformat_minor": 2
}
